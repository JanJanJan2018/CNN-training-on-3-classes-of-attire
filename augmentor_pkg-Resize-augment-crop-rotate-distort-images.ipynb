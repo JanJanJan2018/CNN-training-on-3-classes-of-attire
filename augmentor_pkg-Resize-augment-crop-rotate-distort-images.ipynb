{
 "cells": [
  {
   "cell_type": "code",
   "execution_count": 14,
   "metadata": {},
   "outputs": [
    {
     "name": "stdout",
     "output_type": "stream",
     "text": [
      "Initialised with 390 image(s) found.\n",
      "Output directory set to ./rawData/proPhotos\\output."
     ]
    }
   ],
   "source": [
    "import Augmentor\n",
    "\n",
    "p = Augmentor.Pipeline(\"./rawData/proPhotos\")"
   ]
  },
  {
   "cell_type": "code",
   "execution_count": 15,
   "metadata": {},
   "outputs": [],
   "source": [
    "p.rotate90(probability=0.5)\n",
    "p.rotate270(probability=0.5)\n",
    "p.flip_left_right(probability=0.8)\n",
    "#p.flip_top_bottom(probability=0.3)\n",
    "p.crop_random(probability=1, percentage_area=0.95)\n",
    "p.resize(probability=1.0, width=224, height=224)\n"
   ]
  },
  {
   "cell_type": "code",
   "execution_count": null,
   "metadata": {},
   "outputs": [
    {
     "name": "stderr",
     "output_type": "stream",
     "text": [
      "Processing 303_Janis Corona©KaoriSuzuki.jpg:   1%|▏                          | 31/5000 [00:34<1:41:42,  1.23s/ Samples]"
     ]
    }
   ],
   "source": [
    "p.sample(5000, multi_threaded = False)"
   ]
  },
  {
   "cell_type": "code",
   "execution_count": null,
   "metadata": {},
   "outputs": [],
   "source": [
    "# pip install augmentor\n",
    "# pip install augmentor --upgrade\n",
    "\n",
    "# then in python run image resize and shape commands:\n",
    "\n",
    "# This script should be ran in your 'rawData' folder where your 'photos' folder is with each class of photos\n",
    "# in their respective folder, ie. rawData --> photos --> workShirt\n",
    "#                                                    --> dressy\n",
    "#                                                    --> suit\n",
    "# this script with the Augmentor package creates a folder named 'output' that has the same directory of photos and subfolders\n",
    "# that it places the augmented images in, this will take some time to do all the transformations to the images\n",
    "# the documentation was pulled from: https://github.com/mdbloice/Augmentor\n",
    "\n",
    "#import Augmentor\n",
    "#p = Augmentor.Pipeline(\"/path/to/images\")\n",
    "\n",
    "#p.rotate(probability=0.7, max_left_rotation=10, max_right_rotation=10)\n",
    "#p.zoom(probability=0.5, min_factor=1.1, max_factor=1.5)\n",
    "\n",
    "#p.sample(10000)\n",
    "\n",
    "#other ways to use the pipeline of Augmentor\n",
    "#p.sample(100, multi_threaded=False) #if images are very small, the processing can take a while, use this if so\n",
    "\n",
    "#p.rotate90(probability=0.5)\n",
    "#p.rotate270(probability=0.5)\n",
    "#p.flip_left_right(probability=0.8)\n",
    "#p.flip_top_bottom(probability=0.3)\n",
    "#p.crop_random(probability=1, percentage_area=0.5)\n",
    "#p.resize(probability=1.0, width=120, height=120)\n",
    "\n"
   ]
  },
  {
   "cell_type": "code",
   "execution_count": null,
   "metadata": {},
   "outputs": [],
   "source": []
  }
 ],
 "metadata": {
  "kernelspec": {
   "display_name": "Python 3",
   "language": "python",
   "name": "python3"
  },
  "language_info": {
   "codemirror_mode": {
    "name": "ipython",
    "version": 3
   },
   "file_extension": ".py",
   "mimetype": "text/x-python",
   "name": "python",
   "nbconvert_exporter": "python",
   "pygments_lexer": "ipython3",
   "version": "3.6.9"
  }
 },
 "nbformat": 4,
 "nbformat_minor": 2
}
