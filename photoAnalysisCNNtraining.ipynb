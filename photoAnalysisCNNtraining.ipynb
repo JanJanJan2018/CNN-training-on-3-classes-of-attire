{
 "cells": [
  {
   "cell_type": "code",
   "execution_count": 8,
   "metadata": {},
   "outputs": [],
   "source": [
    "from os.path import join\n",
    "\n",
    "image_dir = '/train/proPhotos/'\n",
    "img_paths = [join(image_dir, filename) for filename in \n",
    "                           ['220_Janis Corona©KaoriSuzuki.jpg',\"235_Janis Corona©KaoriSuzuki.jpg\",\"291_Janis Corona©KaoriSuzuki.jpg\",\"313_Janis Corona©KaoriSuzuki.jpg\",\"355_Janis Corona©KaoriSuzuki.jpg\",\"221_Janis Corona©KaoriSuzuki.jpg\",\"285_Janis Corona©KaoriSuzuki.jpg\",\"043_Janis Corona©KaoriSuzuki.jpg\",\"331_Janis Corona©KaoriSuzuki.jpg\",\"044_Janis Corona©KaoriSuzuki.jpg\",\"170_Janis Corona©KaoriSuzuki.jpg\",\"190_Janis Corona©KaoriSuzuki.jpg\",\"171_Janis Corona©KaoriSuzuki.jpg\",\"185_Janis Corona©KaoriSuzuki.jpg\",\"075_Janis Corona©KaoriSuzuki.jpg\",\"158_Janis Corona©KaoriSuzuki.jpg\",\"218_Janis Corona©KaoriSuzuki.jpg\",\"005_Janis Corona©KaoriSuzuki.jpg\",\"232_Janis Corona©KaoriSuzuki.jpg\",\"376_Janis Corona©KaoriSuzuki.jpg\",\"288_Janis Corona©KaoriSuzuki.jpg\",\"328_Janis Corona©KaoriSuzuki.jpg\",\"219_Janis Corona©KaoriSuzuki.jpg\",\"361_Janis Corona©KaoriSuzuki.jpg\",\"189_Janis Corona©KaoriSuzuki.jpg\",\"079_Janis Corona©KaoriSuzuki.jpg\",\"084_Janis Corona©KaoriSuzuki.jpg\",\"093_Janis Corona©KaoriSuzuki.jpg\",\"385_Janis Corona©KaoriSuzuki.jpg\",\"127_Janis Corona©KaoriSuzuki.jpg\",\"199_Janis Corona©KaoriSuzuki.jpg\",\"371_Janis Corona©KaoriSuzuki.jpg\",\"360_Janis Corona©KaoriSuzuki.jpg\",\"382_Janis Corona©KaoriSuzuki.jpg\",\"052_Janis Corona©KaoriSuzuki.jpg\",\"301_Janis Corona©KaoriSuzuki.jpg\",\"228_Janis Corona©KaoriSuzuki.jpg\",\"323_Janis Corona©KaoriSuzuki.jpg\",\"087_Janis Corona©KaoriSuzuki.jpg\",\"041_Janis Corona©KaoriSuzuki.jpg\",\"028_Janis Corona©KaoriSuzuki.jpg\",\"201_Janis Corona©KaoriSuzuki.jpg\",\"241_Janis Corona©KaoriSuzuki.jpg\",\"366_Janis Corona©KaoriSuzuki.jpg\",\"154_Janis Corona©KaoriSuzuki.jpg\",\"102_Janis Corona©KaoriSuzuki.jpg\",\"299_Janis Corona©KaoriSuzuki.jpg\",\"329_Janis Corona©KaoriSuzuki.jpg\",\"340_Janis Corona©KaoriSuzuki.jpg\",\"276_Janis Corona©KaoriSuzuki.jpg\",\"192_Janis Corona©KaoriSuzuki.jpg\",\"108_Janis Corona©KaoriSuzuki.jpg\",\"103_Janis Corona©KaoriSuzuki.jpg\",\"129_Janis Corona©KaoriSuzuki.jpg\",\"363_Janis Corona©KaoriSuzuki.jpg\",\"345_Janis Corona©KaoriSuzuki.jpg\",\"312_Janis Corona©KaoriSuzuki.jpg\",\"006_Janis Corona©KaoriSuzuki.jpg\",\"008_Janis Corona©KaoriSuzuki.jpg\",\"268_Janis Corona©KaoriSuzuki.jpg\",\"012_Janis Corona©KaoriSuzuki.jpg\",\"151_Janis Corona©KaoriSuzuki.jpg\",\"208_Janis Corona©KaoriSuzuki.jpg\",\"025_Janis Corona©KaoriSuzuki.jpg\",\"255_Janis Corona©KaoriSuzuki.jpg\",\"057_Janis Corona©KaoriSuzuki.jpg\",\"261_Janis Corona©KaoriSuzuki.jpg\",\"332_Janis Corona©KaoriSuzuki.jpg\",\"319_Janis Corona©KaoriSuzuki.jpg\",\"295_Janis Corona©KaoriSuzuki.jpg\",\"136_Janis Corona©KaoriSuzuki.jpg\",\"166_Janis Corona©KaoriSuzuki.jpg\",\"251_Janis Corona©KaoriSuzuki.jpg\",\"133_Janis Corona©KaoriSuzuki.jpg\",\"302_Janis Corona©KaoriSuzuki.jpg\",\"174_Janis Corona©KaoriSuzuki.jpg\",\"068_Janis Corona©KaoriSuzuki.jpg\",\"138_Janis Corona©KaoriSuzuki.jpg\",\"362_Janis Corona©KaoriSuzuki.jpg\",\"011_Janis Corona©KaoriSuzuki.jpg\",\"080_Janis Corona©KaoriSuzuki.jpg\",\"243_Janis Corona©KaoriSuzuki.jpg\",\"330_Janis Corona©KaoriSuzuki.jpg\",\"203_Janis Corona©KaoriSuzuki.jpg\",\"341_Janis Corona©KaoriSuzuki.jpg\",\"173_Janis Corona©KaoriSuzuki.jpg\",\"098_Janis Corona©KaoriSuzuki.jpg\",\"270_Janis Corona©KaoriSuzuki.jpg\",\"071_Janis Corona©KaoriSuzuki.jpg\",\"016_Janis Corona©KaoriSuzuki.jpg\",\"193_Janis Corona©KaoriSuzuki.jpg\",\"267_Janis Corona©KaoriSuzuki.jpg\",\"058_Janis Corona©KaoriSuzuki.jpg\",\"045_Janis Corona©KaoriSuzuki.jpg\",\"356_Janis Corona©KaoriSuzuki.jpg\",\"014_Janis Corona©KaoriSuzuki.jpg\",\"096_Janis Corona©KaoriSuzuki.jpg\",\"343_Janis Corona©KaoriSuzuki.jpg\",\"089_Janis Corona©KaoriSuzuki.jpg\",\"002_Janis Corona©KaoriSuzuki.jpg\",\"065_Janis Corona©KaoriSuzuki.jpg\",\"233_Janis Corona©KaoriSuzuki.jpg\",\"018_Janis Corona©KaoriSuzuki.jpg\",\"176_Janis Corona©KaoriSuzuki.jpg\",\"116_Janis Corona©KaoriSuzuki.jpg\",\"015_Janis Corona©KaoriSuzuki.jpg\",\"275_Janis Corona©KaoriSuzuki.jpg\",\"204_Janis Corona©KaoriSuzuki.jpg\",\"352_Janis Corona©KaoriSuzuki.jpg\",\"141_Janis Corona©KaoriSuzuki.jpg\",\"347_Janis Corona©KaoriSuzuki.jpg\",\"147_Janis Corona©KaoriSuzuki.jpg\",\"223_Janis Corona©KaoriSuzuki.jpg\",\"061_Janis Corona©KaoriSuzuki.jpg\",\"140_Janis Corona©KaoriSuzuki.jpg\",\"009_Janis Corona©KaoriSuzuki.jpg\",\"226_Janis Corona©KaoriSuzuki.jpg\",\"292_Janis Corona©KaoriSuzuki.jpg\",\"350_Janis Corona©KaoriSuzuki.jpg\",\"064_Janis Corona©KaoriSuzuki.jpg\",\"117_Janis Corona©KaoriSuzuki.jpg\",\"349_Janis Corona©KaoriSuzuki.jpg\",\"212_Janis Corona©KaoriSuzuki.jpg\",\"195_Janis Corona©KaoriSuzuki.jpg\",\"354_Janis Corona©KaoriSuzuki.jpg\",\"029_Janis Corona©KaoriSuzuki.jpg\",\"281_Janis Corona©KaoriSuzuki.jpg\",\"279_Janis Corona©KaoriSuzuki.jpg\",\"124_Janis Corona©KaoriSuzuki.jpg\",\"168_Janis Corona©KaoriSuzuki.jpg\",\"259_Janis Corona©KaoriSuzuki.jpg\",\"056_Janis Corona©KaoriSuzuki.jpg\",\"254_Janis Corona©KaoriSuzuki.jpg\",\"054_Janis Corona©KaoriSuzuki.jpg\",\"109_Janis Corona©KaoriSuzuki.jpg\",\"019_Janis Corona©KaoriSuzuki.jpg\",\"307_Janis Corona©KaoriSuzuki.jpg\",\"379_Janis Corona©KaoriSuzuki.jpg\",\"134_Janis Corona©KaoriSuzuki.jpg\",\"177_Janis Corona©KaoriSuzuki.jpg\",\"007_Janis Corona©KaoriSuzuki.jpg\",\"107_Janis Corona©KaoriSuzuki.jpg\",\"318_Janis Corona©KaoriSuzuki.jpg\",\"380_Janis Corona©KaoriSuzuki.jpg\",\"155_Janis Corona©KaoriSuzuki.jpg\",\"088_Janis Corona©KaoriSuzuki.jpg\",\"320_Janis Corona©KaoriSuzuki.jpg\",\"074_Janis Corona©KaoriSuzuki.jpg\",\"118_Janis Corona©KaoriSuzuki.jpg\",\"137_Janis Corona©KaoriSuzuki.jpg\",\"119_Janis Corona©KaoriSuzuki.jpg\",\"325_Janis Corona©KaoriSuzuki.jpg\",\"191_Janis Corona©KaoriSuzuki.jpg\",\"317_Janis Corona©KaoriSuzuki.jpg\",\"062_Janis Corona©KaoriSuzuki.jpg\",\"247_Janis Corona©KaoriSuzuki.jpg\",\"248_Janis Corona©KaoriSuzuki.jpg\",\"283_Janis Corona©KaoriSuzuki.jpg\",\"148_Janis Corona©KaoriSuzuki.jpg\",\"085_Janis Corona©KaoriSuzuki.jpg\",\"206_Janis Corona©KaoriSuzuki.jpg\",\"207_Janis Corona©KaoriSuzuki.jpg\",\"077_Janis Corona©KaoriSuzuki.jpg\",\"131_Janis Corona©KaoriSuzuki.jpg\",\"215_Janis Corona©KaoriSuzuki.jpg\",\"198_Janis Corona©KaoriSuzuki.jpg\",\"309_Janis Corona©KaoriSuzuki.jpg\",\"373_Janis Corona©KaoriSuzuki.jpg\",\"179_Janis Corona©KaoriSuzuki.jpg\",\"159_Janis Corona©KaoriSuzuki.jpg\",\"242_Janis Corona©KaoriSuzuki.jpg\",\"122_Janis Corona©KaoriSuzuki.jpg\",\"278_Janis Corona©KaoriSuzuki.jpg\",\"386_Janis Corona©KaoriSuzuki.jpg\",\"030_Janis Corona©KaoriSuzuki.jpg\",\"070_Janis Corona©KaoriSuzuki.jpg\",\"112_Janis Corona©KaoriSuzuki.jpg\",\"020_Janis Corona©KaoriSuzuki.jpg\",\"353_Janis Corona©KaoriSuzuki.jpg\",\"303_Janis Corona©KaoriSuzuki.jpg\",\"390_Janis Corona©KaoriSuzuki.jpg\",\"216_Janis Corona©KaoriSuzuki.jpg\",\"050_Janis Corona©KaoriSuzuki.jpg\",\"240_Janis Corona©KaoriSuzuki.jpg\",\"186_Janis Corona©KaoriSuzuki.jpg\",\"047_Janis Corona©KaoriSuzuki.jpg\",\"146_Janis Corona©KaoriSuzuki.jpg\",\"321_Janis Corona©KaoriSuzuki.jpg\",\"063_Janis Corona©KaoriSuzuki.jpg\",\"287_Janis Corona©KaoriSuzuki.jpg\",\"234_Janis Corona©KaoriSuzuki.jpg\",\"178_Janis Corona©KaoriSuzuki.jpg\",\"163_Janis Corona©KaoriSuzuki.jpg\",\"262_Janis Corona©KaoriSuzuki.jpg\",\"202_Janis Corona©KaoriSuzuki.jpg\",\"076_Janis Corona©KaoriSuzuki.jpg\",\"389_Janis Corona©KaoriSuzuki.jpg\",\"266_Janis Corona©KaoriSuzuki.jpg\",\"092_Janis Corona©KaoriSuzuki.jpg\",\"106_Janis Corona©KaoriSuzuki.jpg\",\"367_Janis Corona©KaoriSuzuki.jpg\",\"300_Janis Corona©KaoriSuzuki.jpg\",\"035_Janis Corona©KaoriSuzuki.jpg\",\"274_Janis Corona©KaoriSuzuki.jpg\",\"024_Janis Corona©KaoriSuzuki.jpg\",\"375_Janis Corona©KaoriSuzuki.jpg\",\"128_Janis Corona©KaoriSuzuki.jpg\",\"229_Janis Corona©KaoriSuzuki.jpg\",\"197_Janis Corona©KaoriSuzuki.jpg\",\"260_Janis Corona©KaoriSuzuki.jpg\",\"338_Janis Corona©KaoriSuzuki.jpg\",\"290_Janis Corona©KaoriSuzuki.jpg\",\"369_Janis Corona©KaoriSuzuki.jpg\",\"304_Janis Corona©KaoriSuzuki.jpg\",\"040_Janis Corona©KaoriSuzuki.jpg\",\"315_Janis Corona©KaoriSuzuki.jpg\",\"183_Janis Corona©KaoriSuzuki.jpg\",\"104_Janis Corona©KaoriSuzuki.jpg\",\"294_Janis Corona©KaoriSuzuki.jpg\",\"342_Janis Corona©KaoriSuzuki.jpg\",\"246_Janis Corona©KaoriSuzuki.jpg\",\"378_Janis Corona©KaoriSuzuki.jpg\",\"252_Janis Corona©KaoriSuzuki.jpg\",\"032_Janis Corona©KaoriSuzuki.jpg\",\"188_Janis Corona©KaoriSuzuki.jpg\",\"239_Janis Corona©KaoriSuzuki.jpg\",\"003_Janis Corona©KaoriSuzuki.jpg\",\"164_Janis Corona©KaoriSuzuki.jpg\",\"083_Janis Corona©KaoriSuzuki.jpg\",\"238_Janis Corona©KaoriSuzuki.jpg\",\"172_Janis Corona©KaoriSuzuki.jpg\",\"094_Janis Corona©KaoriSuzuki.jpg\",\"156_Janis Corona©KaoriSuzuki.jpg\",\"344_Janis Corona©KaoriSuzuki.jpg\",\"298_Janis Corona©KaoriSuzuki.jpg\",\"194_Janis Corona©KaoriSuzuki.jpg\",\"059_Janis Corona©KaoriSuzuki.jpg\",\"305_Janis Corona©KaoriSuzuki.jpg\",\"368_Janis Corona©KaoriSuzuki.jpg\",\"272_Janis Corona©KaoriSuzuki.jpg\",\"048_Janis Corona©KaoriSuzuki.jpg\",\"091_Janis Corona©KaoriSuzuki.jpg\",\"316_Janis Corona©KaoriSuzuki.jpg\",\"187_Janis Corona©KaoriSuzuki.jpg\",\"184_Janis Corona©KaoriSuzuki.jpg\",\"258_Janis Corona©KaoriSuzuki.jpg\",\"115_Janis Corona©KaoriSuzuki.jpg\",\"269_Janis Corona©KaoriSuzuki.jpg\",\"214_Janis Corona©KaoriSuzuki.jpg\",\"200_Janis Corona©KaoriSuzuki.jpg\",\"066_Janis Corona©KaoriSuzuki.jpg\",\"162_Janis Corona©KaoriSuzuki.jpg\",\"114_Janis Corona©KaoriSuzuki.jpg\",\"257_Janis Corona©KaoriSuzuki.jpg\",\"149_Janis Corona©KaoriSuzuki.jpg\",\"311_Janis Corona©KaoriSuzuki.jpg\",\"273_Janis Corona©KaoriSuzuki.jpg\",\"165_Janis Corona©KaoriSuzuki.jpg\",\"333_Janis Corona©KaoriSuzuki.jpg\",\"042_Janis Corona©KaoriSuzuki.jpg\",\"383_Janis Corona©KaoriSuzuki.jpg\",\"236_Janis Corona©KaoriSuzuki.jpg\",\"121_Janis Corona©KaoriSuzuki.jpg\",\"097_Janis Corona©KaoriSuzuki.jpg\",\"153_Janis Corona©KaoriSuzuki.jpg\",\"135_Janis Corona©KaoriSuzuki.jpg\",\"051_Janis Corona©KaoriSuzuki.jpg\",\"271_Janis Corona©KaoriSuzuki.jpg\",\"217_Janis Corona©KaoriSuzuki.jpg\",\"284_Janis Corona©KaoriSuzuki.jpg\",\"210_Janis Corona©KaoriSuzuki.jpg\",\"010_Janis Corona©KaoriSuzuki.jpg\",\"033_Janis Corona©KaoriSuzuki.jpg\"]]\n"
   ]
  },
  {
   "cell_type": "code",
   "execution_count": 9,
   "metadata": {},
   "outputs": [],
   "source": [
    "import numpy as np\n",
    "from tensorflow.python.keras.applications.resnet50 import preprocess_input\n",
    "from tensorflow.python.keras.preprocessing.image import load_img, img_to_array\n",
    "\n",
    "image_size = 224\n",
    "\n",
    "def read_and_prep_images(img_paths, img_height=image_size, img_width=image_size):\n",
    "    imgs = [load_img(img_path, target_size=(img_height, img_width)) for img_path in img_paths]\n",
    "    img_array = np.array([img_to_array(img) for img in imgs])\n",
    "    output = preprocess_input(img_array)\n",
    "    return(output)\n"
   ]
  },
  {
   "cell_type": "code",
   "execution_count": 7,
   "metadata": {},
   "outputs": [
    {
     "ename": "FileNotFoundError",
     "evalue": "[Errno 2] No such file or directory: '/train/proPhotos/220_Janis Corona©KaoriSuzuki.jpg'",
     "output_type": "error",
     "traceback": [
      "\u001b[1;31m---------------------------------------------------------------------------\u001b[0m",
      "\u001b[1;31mFileNotFoundError\u001b[0m                         Traceback (most recent call last)",
      "\u001b[1;32m<ipython-input-7-3a3c9c95cad0>\u001b[0m in \u001b[0;36m<module>\u001b[1;34m\u001b[0m\n\u001b[0;32m      2\u001b[0m \u001b[1;33m\u001b[0m\u001b[0m\n\u001b[0;32m      3\u001b[0m \u001b[0mmy_model\u001b[0m \u001b[1;33m=\u001b[0m \u001b[0mResNet50\u001b[0m\u001b[1;33m(\u001b[0m\u001b[1;33m)\u001b[0m\u001b[1;31m#weights='../input/resnet50/resnet50_weights_tf_dim_ordering_tf_kernels.h5')\u001b[0m\u001b[1;33m\u001b[0m\u001b[1;33m\u001b[0m\u001b[0m\n\u001b[1;32m----> 4\u001b[1;33m \u001b[0mtest_data\u001b[0m \u001b[1;33m=\u001b[0m \u001b[0mread_and_prep_images\u001b[0m\u001b[1;33m(\u001b[0m\u001b[0mimg_paths\u001b[0m\u001b[1;33m)\u001b[0m\u001b[1;33m\u001b[0m\u001b[1;33m\u001b[0m\u001b[0m\n\u001b[0m\u001b[0;32m      5\u001b[0m \u001b[0mpreds\u001b[0m \u001b[1;33m=\u001b[0m \u001b[0mmy_model\u001b[0m\u001b[1;33m.\u001b[0m\u001b[0mpredict\u001b[0m\u001b[1;33m(\u001b[0m\u001b[0mtest_data\u001b[0m\u001b[1;33m)\u001b[0m\u001b[1;33m\u001b[0m\u001b[1;33m\u001b[0m\u001b[0m\n",
      "\u001b[1;32m<ipython-input-6-23407a4ef92b>\u001b[0m in \u001b[0;36mread_and_prep_images\u001b[1;34m(img_paths, img_height, img_width)\u001b[0m\n\u001b[0;32m      6\u001b[0m \u001b[1;33m\u001b[0m\u001b[0m\n\u001b[0;32m      7\u001b[0m \u001b[1;32mdef\u001b[0m \u001b[0mread_and_prep_images\u001b[0m\u001b[1;33m(\u001b[0m\u001b[0mimg_paths\u001b[0m\u001b[1;33m,\u001b[0m \u001b[0mimg_height\u001b[0m\u001b[1;33m=\u001b[0m\u001b[0mimage_size\u001b[0m\u001b[1;33m,\u001b[0m \u001b[0mimg_width\u001b[0m\u001b[1;33m=\u001b[0m\u001b[0mimage_size\u001b[0m\u001b[1;33m)\u001b[0m\u001b[1;33m:\u001b[0m\u001b[1;33m\u001b[0m\u001b[1;33m\u001b[0m\u001b[0m\n\u001b[1;32m----> 8\u001b[1;33m     \u001b[0mimgs\u001b[0m \u001b[1;33m=\u001b[0m \u001b[1;33m[\u001b[0m\u001b[0mload_img\u001b[0m\u001b[1;33m(\u001b[0m\u001b[0mimg_path\u001b[0m\u001b[1;33m,\u001b[0m \u001b[0mtarget_size\u001b[0m\u001b[1;33m=\u001b[0m\u001b[1;33m(\u001b[0m\u001b[0mimg_height\u001b[0m\u001b[1;33m,\u001b[0m \u001b[0mimg_width\u001b[0m\u001b[1;33m)\u001b[0m\u001b[1;33m)\u001b[0m \u001b[1;32mfor\u001b[0m \u001b[0mimg_path\u001b[0m \u001b[1;32min\u001b[0m \u001b[0mimg_paths\u001b[0m\u001b[1;33m]\u001b[0m\u001b[1;33m\u001b[0m\u001b[1;33m\u001b[0m\u001b[0m\n\u001b[0m\u001b[0;32m      9\u001b[0m     \u001b[0mimg_array\u001b[0m \u001b[1;33m=\u001b[0m \u001b[0mnp\u001b[0m\u001b[1;33m.\u001b[0m\u001b[0marray\u001b[0m\u001b[1;33m(\u001b[0m\u001b[1;33m[\u001b[0m\u001b[0mimg_to_array\u001b[0m\u001b[1;33m(\u001b[0m\u001b[0mimg\u001b[0m\u001b[1;33m)\u001b[0m \u001b[1;32mfor\u001b[0m \u001b[0mimg\u001b[0m \u001b[1;32min\u001b[0m \u001b[0mimgs\u001b[0m\u001b[1;33m]\u001b[0m\u001b[1;33m)\u001b[0m\u001b[1;33m\u001b[0m\u001b[1;33m\u001b[0m\u001b[0m\n\u001b[0;32m     10\u001b[0m     \u001b[0moutput\u001b[0m \u001b[1;33m=\u001b[0m \u001b[0mpreprocess_input\u001b[0m\u001b[1;33m(\u001b[0m\u001b[0mimg_array\u001b[0m\u001b[1;33m)\u001b[0m\u001b[1;33m\u001b[0m\u001b[1;33m\u001b[0m\u001b[0m\n",
      "\u001b[1;32m<ipython-input-6-23407a4ef92b>\u001b[0m in \u001b[0;36m<listcomp>\u001b[1;34m(.0)\u001b[0m\n\u001b[0;32m      6\u001b[0m \u001b[1;33m\u001b[0m\u001b[0m\n\u001b[0;32m      7\u001b[0m \u001b[1;32mdef\u001b[0m \u001b[0mread_and_prep_images\u001b[0m\u001b[1;33m(\u001b[0m\u001b[0mimg_paths\u001b[0m\u001b[1;33m,\u001b[0m \u001b[0mimg_height\u001b[0m\u001b[1;33m=\u001b[0m\u001b[0mimage_size\u001b[0m\u001b[1;33m,\u001b[0m \u001b[0mimg_width\u001b[0m\u001b[1;33m=\u001b[0m\u001b[0mimage_size\u001b[0m\u001b[1;33m)\u001b[0m\u001b[1;33m:\u001b[0m\u001b[1;33m\u001b[0m\u001b[1;33m\u001b[0m\u001b[0m\n\u001b[1;32m----> 8\u001b[1;33m     \u001b[0mimgs\u001b[0m \u001b[1;33m=\u001b[0m \u001b[1;33m[\u001b[0m\u001b[0mload_img\u001b[0m\u001b[1;33m(\u001b[0m\u001b[0mimg_path\u001b[0m\u001b[1;33m,\u001b[0m \u001b[0mtarget_size\u001b[0m\u001b[1;33m=\u001b[0m\u001b[1;33m(\u001b[0m\u001b[0mimg_height\u001b[0m\u001b[1;33m,\u001b[0m \u001b[0mimg_width\u001b[0m\u001b[1;33m)\u001b[0m\u001b[1;33m)\u001b[0m \u001b[1;32mfor\u001b[0m \u001b[0mimg_path\u001b[0m \u001b[1;32min\u001b[0m \u001b[0mimg_paths\u001b[0m\u001b[1;33m]\u001b[0m\u001b[1;33m\u001b[0m\u001b[1;33m\u001b[0m\u001b[0m\n\u001b[0m\u001b[0;32m      9\u001b[0m     \u001b[0mimg_array\u001b[0m \u001b[1;33m=\u001b[0m \u001b[0mnp\u001b[0m\u001b[1;33m.\u001b[0m\u001b[0marray\u001b[0m\u001b[1;33m(\u001b[0m\u001b[1;33m[\u001b[0m\u001b[0mimg_to_array\u001b[0m\u001b[1;33m(\u001b[0m\u001b[0mimg\u001b[0m\u001b[1;33m)\u001b[0m \u001b[1;32mfor\u001b[0m \u001b[0mimg\u001b[0m \u001b[1;32min\u001b[0m \u001b[0mimgs\u001b[0m\u001b[1;33m]\u001b[0m\u001b[1;33m)\u001b[0m\u001b[1;33m\u001b[0m\u001b[1;33m\u001b[0m\u001b[0m\n\u001b[0;32m     10\u001b[0m     \u001b[0moutput\u001b[0m \u001b[1;33m=\u001b[0m \u001b[0mpreprocess_input\u001b[0m\u001b[1;33m(\u001b[0m\u001b[0mimg_array\u001b[0m\u001b[1;33m)\u001b[0m\u001b[1;33m\u001b[0m\u001b[1;33m\u001b[0m\u001b[0m\n",
      "\u001b[1;32mc:\\users\\m\\anaconda2\\envs\\python36\\lib\\site-packages\\keras_preprocessing\\image\\utils.py\u001b[0m in \u001b[0;36mload_img\u001b[1;34m(path, grayscale, color_mode, target_size, interpolation)\u001b[0m\n\u001b[0;32m    108\u001b[0m         raise ImportError('Could not import PIL.Image. '\n\u001b[0;32m    109\u001b[0m                           'The use of `load_img` requires PIL.')\n\u001b[1;32m--> 110\u001b[1;33m     \u001b[0mimg\u001b[0m \u001b[1;33m=\u001b[0m \u001b[0mpil_image\u001b[0m\u001b[1;33m.\u001b[0m\u001b[0mopen\u001b[0m\u001b[1;33m(\u001b[0m\u001b[0mpath\u001b[0m\u001b[1;33m)\u001b[0m\u001b[1;33m\u001b[0m\u001b[1;33m\u001b[0m\u001b[0m\n\u001b[0m\u001b[0;32m    111\u001b[0m     \u001b[1;32mif\u001b[0m \u001b[0mcolor_mode\u001b[0m \u001b[1;33m==\u001b[0m \u001b[1;34m'grayscale'\u001b[0m\u001b[1;33m:\u001b[0m\u001b[1;33m\u001b[0m\u001b[1;33m\u001b[0m\u001b[0m\n\u001b[0;32m    112\u001b[0m         \u001b[1;32mif\u001b[0m \u001b[0mimg\u001b[0m\u001b[1;33m.\u001b[0m\u001b[0mmode\u001b[0m \u001b[1;33m!=\u001b[0m \u001b[1;34m'L'\u001b[0m\u001b[1;33m:\u001b[0m\u001b[1;33m\u001b[0m\u001b[1;33m\u001b[0m\u001b[0m\n",
      "\u001b[1;32mc:\\users\\m\\anaconda2\\envs\\python36\\lib\\site-packages\\PIL\\Image.py\u001b[0m in \u001b[0;36mopen\u001b[1;34m(fp, mode)\u001b[0m\n\u001b[0;32m   2764\u001b[0m \u001b[1;33m\u001b[0m\u001b[0m\n\u001b[0;32m   2765\u001b[0m     \u001b[1;32mif\u001b[0m \u001b[0mfilename\u001b[0m\u001b[1;33m:\u001b[0m\u001b[1;33m\u001b[0m\u001b[1;33m\u001b[0m\u001b[0m\n\u001b[1;32m-> 2766\u001b[1;33m         \u001b[0mfp\u001b[0m \u001b[1;33m=\u001b[0m \u001b[0mbuiltins\u001b[0m\u001b[1;33m.\u001b[0m\u001b[0mopen\u001b[0m\u001b[1;33m(\u001b[0m\u001b[0mfilename\u001b[0m\u001b[1;33m,\u001b[0m \u001b[1;34m\"rb\"\u001b[0m\u001b[1;33m)\u001b[0m\u001b[1;33m\u001b[0m\u001b[1;33m\u001b[0m\u001b[0m\n\u001b[0m\u001b[0;32m   2767\u001b[0m         \u001b[0mexclusive_fp\u001b[0m \u001b[1;33m=\u001b[0m \u001b[1;32mTrue\u001b[0m\u001b[1;33m\u001b[0m\u001b[1;33m\u001b[0m\u001b[0m\n\u001b[0;32m   2768\u001b[0m \u001b[1;33m\u001b[0m\u001b[0m\n",
      "\u001b[1;31mFileNotFoundError\u001b[0m: [Errno 2] No such file or directory: '/train/proPhotos/220_Janis Corona©KaoriSuzuki.jpg'"
     ]
    }
   ],
   "source": [
    "from tensorflow.python.keras.applications import ResNet50\n",
    "\n",
    "my_model = ResNet50()#weights='../input/resnet50/resnet50_weights_tf_dim_ordering_tf_kernels.h5')\n",
    "test_data = read_and_prep_images(img_paths)\n",
    "preds = my_model.predict(test_data)\n"
   ]
  },
  {
   "cell_type": "code",
   "execution_count": 4,
   "metadata": {},
   "outputs": [],
   "source": [
    "from tensorflow.python.keras.applications import ResNet50\n",
    "from tensorflow.python.keras.models import Sequential\n",
    "from tensorflow.python.keras.layers import Dense, Flatten, GlobalAveragePooling2D\n"
   ]
  },
  {
   "cell_type": "code",
   "execution_count": 12,
   "metadata": {},
   "outputs": [
    {
     "name": "stdout",
     "output_type": "stream",
     "text": [
      "Downloading data from https://github.com/fchollet/deep-learning-models/releases/download/v0.2/resnet50_weights_tf_dim_ordering_tf_kernels_notop.h5\n",
      "94658560/94653016 [==============================] - 55s 1us/step\n"
     ]
    }
   ],
   "source": [
    "num_classes = 3\n",
    "#resnet_weights_path = '../input/resnet50/resnet50_weights_tf_dim_ordering_tf_kernels_notop.h5'\n",
    "\n",
    "my_new_model = Sequential()\n",
    "my_new_model.add(ResNet50(include_top=False, pooling='avg'))#, weights=resnet_weights_path))\n",
    "my_new_model.add(Dense(num_classes, activation='softmax'))\n",
    "\n",
    "# Say not to train first layer (ResNet) model. It is already trained\n",
    "my_new_model.layers[0].trainable = False\n"
   ]
  },
  {
   "cell_type": "code",
   "execution_count": 13,
   "metadata": {},
   "outputs": [],
   "source": [
    "my_new_model.compile(optimizer='sgd', loss='categorical_crossentropy', metrics=['accuracy'])"
   ]
  },
  {
   "cell_type": "code",
   "execution_count": null,
   "metadata": {},
   "outputs": [],
   "source": [
    "from tensorflow.python.keras.applications.resnet50 import preprocess_input\n",
    "from tensorflow.python.keras.preprocessing.image import ImageDataGenerator\n",
    "\n",
    "image_size = 224\n",
    "data_generator = ImageDataGenerator(preprocessing_function=preprocess_input)\n",
    "\n",
    "\n",
    "train_generator = data_generator.flow_from_directory(\n",
    "        '/train/proPhotos',\n",
    "        target_size=(image_size, image_size),\n",
    "        batch_size=24,\n",
    "        class_mode='categorical')\n",
    "\n",
    "validation_generator = data_generator.flow_from_directory(\n",
    "        '/test/proPhotos',\n",
    "        target_size=(image_size, image_size),\n",
    "        class_mode='categorical')\n",
    "\n",
    "my_new_model.fit_generator(\n",
    "        train_generator,\n",
    "        steps_per_epoch=3,\n",
    "        validation_data=validation_generator,\n",
    "        validation_steps=1)\n"
   ]
  },
  {
   "cell_type": "code",
   "execution_count": null,
   "metadata": {},
   "outputs": [],
   "source": []
  }
 ],
 "metadata": {
  "kernelspec": {
   "display_name": "Python 3",
   "language": "python",
   "name": "python3"
  },
  "language_info": {
   "codemirror_mode": {
    "name": "ipython",
    "version": 3
   },
   "file_extension": ".py",
   "mimetype": "text/x-python",
   "name": "python",
   "nbconvert_exporter": "python",
   "pygments_lexer": "ipython3",
   "version": "3.6.9"
  }
 },
 "nbformat": 4,
 "nbformat_minor": 2
}
